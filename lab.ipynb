{
 "cells": [
  {
   "cell_type": "markdown",
   "metadata": {},
   "source": [
    "# Laboratory notebook\n",
    "This notebook is where you can experiment using the subtractive solver on multiple repositories yourself!\n",
    "Add the repo url (from either a remote git repository, or a local path) and the branch you want to analyze (defaults to main).\n",
    "I have set up an example setup that allows you to just add repo paths to a list and the notebook will concurrently analyze all the \n",
    "repositories and display them in a chart."
   ]
  },
  {
   "cell_type": "code",
   "execution_count": 1,
   "metadata": {},
   "outputs": [],
   "source": [
    "from dataclasses import dataclass\n",
    "from main import main\n",
    "\n",
    "@dataclass\n",
    "class ConfigurationItem():\n",
    "    repo_path: str\n",
    "    branch: str = \"main\""
   ]
  },
  {
   "cell_type": "code",
   "execution_count": null,
   "metadata": {},
   "outputs": [],
   "source": []
  }
 ],
 "metadata": {
  "kernelspec": {
   "display_name": ".venv",
   "language": "python",
   "name": "python3"
  },
  "language_info": {
   "codemirror_mode": {
    "name": "ipython",
    "version": 3
   },
   "file_extension": ".py",
   "mimetype": "text/x-python",
   "name": "python",
   "nbconvert_exporter": "python",
   "pygments_lexer": "ipython3",
   "version": "3.12.5"
  }
 },
 "nbformat": 4,
 "nbformat_minor": 2
}
